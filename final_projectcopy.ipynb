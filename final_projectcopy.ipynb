version https://git-lfs.github.com/spec/v1
oid sha256:a095dcda30501bb7cb8138a0aa3b89bf79726601fe0b69d08371997e1b2d2852
size 26346223
